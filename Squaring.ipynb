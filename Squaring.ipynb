{
 "cells": [
  {
   "cell_type": "code",
   "execution_count": 7,
   "metadata": {},
   "outputs": [
    {
     "name": "stdin",
     "output_type": "stream",
     "text": [
      "What is your name?  Jam\\\n",
      "Enter a whole number:  6000\n"
     ]
    },
    {
     "name": "stdout",
     "output_type": "stream",
     "text": [
      "Hello Jam\\\n",
      "The square of 6000 is 36000000\n"
     ]
    }
   ],
   "source": [
    "name = input(\"What is your name? \")\n",
    "try:\n",
    "    num = int(input(\"Enter a whole number: \"))\n",
    "    print(\"Hello\",name)\n",
    "    print(\"The square of\",num,\"is\", pow(num,2))\n",
    "except:\n",
    "    print(\"That is either not a number or not a whole number,\",name)"
   ]
  },
  {
   "cell_type": "code",
   "execution_count": null,
   "metadata": {},
   "outputs": [],
   "source": []
  }
 ],
 "metadata": {
  "kernelspec": {
   "display_name": "Python 3.7",
   "language": "python",
   "name": "python3"
  },
  "language_info": {
   "codemirror_mode": {
    "name": "ipython",
    "version": 3
   },
   "file_extension": ".py",
   "mimetype": "text/x-python",
   "name": "python",
   "nbconvert_exporter": "python",
   "pygments_lexer": "ipython3",
   "version": "3.7.0"
  }
 },
 "nbformat": 4,
 "nbformat_minor": 2
}
